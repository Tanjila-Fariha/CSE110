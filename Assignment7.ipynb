{
 "cells": [
  {
   "cell_type": "code",
   "execution_count": 7,
   "metadata": {},
   "outputs": [
    {
     "name": "stdout",
     "output_type": "stream",
     "text": [
      "[1, 2, 2, 3, 5, 6, 10, 11, 12, 14, 15, 17, 18, 20, 29]\n"
     ]
    }
   ],
   "source": [
    "#Task 1\n",
    "my_list = [10, 1, 20, 3, 6, 2, 5, 11, 15, 2, 12, 14, 17, 18, 29]\n",
    "for i in range(0,len(my_list)-1):\n",
    "    for j in range(0, len(my_list)-i-1):\n",
    "        if (my_list[j] > my_list[(j+1)]):\n",
    "            num = my_list[j]\n",
    "            my_list[j] = my_list[j+1]\n",
    "            my_list[j+1] = num\n",
    "print(my_list)"
   ]
  },
  {
   "cell_type": "code",
   "execution_count": 62,
   "metadata": {},
   "outputs": [
    {
     "name": "stdout",
     "output_type": "stream",
     "text": [
      "[1, 2, 2, 3, 5, 6, 10, 11, 12, 14, 15, 17, 18, 20, 29]\n"
     ]
    }
   ],
   "source": [
    "# Task 2\n",
    "my_list = [10, 1, 20, 3, 6, 2, 5, 11, 15, 2, 12, 14, 17, 18, 29]\n",
    "for i in range(0, len(my_list)-1):\n",
    "    min = my_list[i]\n",
    "    min_idx = i\n",
    "    for j in range(i+1, len(my_list)):\n",
    "        if my_list[j] < min:\n",
    "            min = my_list[j]\n",
    "            min_idx = j\n",
    "            temp = min\n",
    "            my_list[min_idx] = my_list[i]\n",
    "            my_list[i] = temp\n",
    "print(my_list)\n"
   ]
  },
  {
   "cell_type": "code",
   "execution_count": 6,
   "metadata": {},
   "outputs": [
    {
     "name": "stdout",
     "output_type": "stream",
     "text": [
      "[29, 20, 18, 17, 15, 14, 12, 11, 10, 6, 5, 3, 2, 2, 1]\n"
     ]
    }
   ],
   "source": [
    "# Task 3\n",
    "my_list = [10, 1, 20, 3, 6, 2, 5, 11, 15, 2, 12, 14, 17, 18, 29]\n",
    "for i in range(0, len(my_list)-1):\n",
    "    for j in range(0, len(my_list)-i-1):\n",
    "        if (my_list[j] < my_list[(j+1)]):\n",
    "            num = my_list[j]\n",
    "            my_list[j] = my_list[j+1]\n",
    "            my_list[j+1] = num\n",
    "print(my_list)\n"
   ]
  },
  {
   "cell_type": "code",
   "execution_count": 73,
   "metadata": {},
   "outputs": [
    {
     "name": "stdout",
     "output_type": "stream",
     "text": [
      "[10, 100, 11, 80, 12, 70, 20, 56, 22, 30, 58, 16, 70, 15]\n"
     ]
    }
   ],
   "source": [
    "#Task 4\n",
    "sitting_list = [10, 30, 20, 70, 11, 15, 22, 16, 58, 100, 12, 56, 70,80]\n",
    "list_even=[]\n",
    "list_odd=[]\n",
    "for i in range(0,len(sitting_list)):\n",
    "    if i%2==0:\n",
    "        list_even.append(sitting_list[i])\n",
    "    else:\n",
    "        list_odd.append(sitting_list[i])\n",
    "for i in range(0, len(list_even)-1):\n",
    "    for j in range(0, len(list_even)-i-1):\n",
    "        if (list_even[j] > list_even[(j+1)]):\n",
    "            num = list_even[j]\n",
    "            list_even[j] = list_even[j+1]\n",
    "            list_even[j+1] = num\n",
    "for i in range(0, len(list_odd)-1):\n",
    "    for j in range(0, len(list_odd)-i-1):\n",
    "        if (list_odd[j] < list_odd[(j+1)]):\n",
    "            num = list_odd[j]\n",
    "            list_odd[j] = list_odd[j+1]\n",
    "            list_odd[j+1] = num\n",
    "my_list=[]\n",
    "if len(list_even)!=len(list_odd):\n",
    "    for i in range(len(list_odd)):\n",
    "        my_list.append(list_even[i])\n",
    "        my_list.append(list_odd[i])\n",
    "    my_list.append(list_even[-1])\n",
    "else:\n",
    "    for i in range(len(list_even)):\n",
    "        my_list.append(list_even[i])\n",
    "        my_list.append(list_odd[i])\n",
    "print(my_list)\n"
   ]
  },
  {
   "cell_type": "code",
   "execution_count": 71,
   "metadata": {},
   "outputs": [
    {
     "name": "stdout",
     "output_type": "stream",
     "text": [
      "Musk\n",
      "Elon\n",
      "Turing\n",
      "Alan\n"
     ]
    }
   ],
   "source": [
    "#Task 5\n",
    "lst = [[\"Alan\", 95, 87, 91], [\"Turing\", 92, 90, 83],[\"Elon\", 87, 92, 80], [\"Musk\", 85, 94, 90]]\n",
    "subject = input(\"Enter a Subject: \")\n",
    "if subject == \"CSE110\":\n",
    "    index = 1\n",
    "elif subject == \"PHY111\":\n",
    "    index = 2\n",
    "elif subject==\"MAT110\":\n",
    "    index = 3\n",
    "for i in range(len(lst)):\n",
    "    max_index = i\n",
    "    for j in range(i+1, len(lst)):\n",
    "        if lst[j][index] > lst[max_index][index]:\n",
    "            max_index = j\n",
    "    print(lst[max_index][0])\n",
    "    temp = lst[i]\n",
    "    lst[i] = lst[max_index]\n",
    "    lst[max_index] = temp"
   ]
  },
  {
   "cell_type": "code",
   "execution_count": 74,
   "metadata": {},
   "outputs": [
    {
     "name": "stdout",
     "output_type": "stream",
     "text": [
      "4\n"
     ]
    }
   ],
   "source": [
    "#Task 6\n",
    "my_list = [4, 2, 3, 1, 6, 5]\n",
    "new_list=my_list[:]\n",
    "count=0\n",
    "for i in range(0, len(my_list)-1):\n",
    "    for j in range(0, len(my_list)-i-1):\n",
    "        if (my_list[j] > my_list[(j+1)]):\n",
    "            num = my_list[j]\n",
    "            my_list[j] = my_list[j+1]\n",
    "            my_list[j+1] = num\n",
    "for i in range(len(my_list)):\n",
    "    if my_list[i]!=new_list[i]:\n",
    "        count=count+1\n",
    "print(count)\n",
    "\n"
   ]
  },
  {
   "cell_type": "code",
   "execution_count": 65,
   "metadata": {},
   "outputs": [
    {
     "name": "stdout",
     "output_type": "stream",
     "text": [
      "Sorted list= [1, 2, 5, 6, 7, 7, 9, 10]\n",
      "Median= 6.5\n"
     ]
    }
   ],
   "source": [
    "# Task 7\n",
    "list_one = input(\"Enter a list:\")\n",
    "list_one = list_one.replace(\"[\", \"\").replace(\"]\", \"\").replace(\" \", \"\").split(\",\")\n",
    "list1=[]\n",
    "for i in list_one:\n",
    "    list1.append(int(i))\n",
    "list_two = input(\"Enter a list:\")\n",
    "list_two = list_two.replace(\"[\", \"\").replace(\"]\", \"\").replace(\" \", \"\").split(\",\")\n",
    "list2=[]\n",
    "for i in list_two:\n",
    "    list2.append(int(i))\n",
    "my_list = list1+list2\n",
    "for i in range(0, len(my_list)-1):\n",
    "    for j in range(0, len(my_list)-i-1):\n",
    "        if (my_list[j] > my_list[(j+1)]):\n",
    "            num = my_list[j]\n",
    "            my_list[j] = my_list[j+1]\n",
    "            my_list[j+1] = num\n",
    "print(\"Sorted list=\",my_list)\n",
    "if len(my_list)%2==0:\n",
    "    p=int((len(my_list))/2)-1\n",
    "    median=(my_list[p]+my_list[p+1])/2\n",
    "else:\n",
    "    median=my_list[int((len(my_list)+1)/2)-1]\n",
    "print(\"Median=\",median)\n",
    "\n"
   ]
  },
  {
   "cell_type": "code",
   "execution_count": 66,
   "metadata": {},
   "outputs": [
    {
     "name": "stdout",
     "output_type": "stream",
     "text": [
      "Two pairs which have the smallest sum = 4 and -7\n"
     ]
    }
   ],
   "source": [
    "#Task 8\n",
    "list_one = input(\"Enter a list:\")\n",
    "list_one = list_one.replace(\"[\", \"\").replace(\"]\", \"\").replace(\" \", \"\").split(\",\")\n",
    "list1 = []\n",
    "for i in list_one:\n",
    "    list1.append(int(i))\n",
    "neg_list=[]\n",
    "pos_list=[]\n",
    "for i in list1:\n",
    "    if i<0:\n",
    "        neg_list.append(i)\n",
    "    else:\n",
    "        pos_list.append(i)\n",
    "min=pos_list[0]+neg_list[0]\n",
    "for j in pos_list:\n",
    "    for k in neg_list:\n",
    "        sum=j+k\n",
    "        if abs(sum)<abs(min):\n",
    "            min=sum\n",
    "            pair1=j\n",
    "            pair2=k\n",
    "print(\"Two pairs which have the smallest sum =\",pair1,\"and\",pair2)\n"
   ]
  },
  {
   "cell_type": "code",
   "execution_count": 69,
   "metadata": {},
   "outputs": [
    {
     "name": "stdout",
     "output_type": "stream",
     "text": [
      "Minimum distance = 5.0\n",
      "Here the closest point is (-3, -4) which has a distance of 5.0 from the origin.\n"
     ]
    }
   ],
   "source": [
    "#Task 9\n",
    "import math\n",
    "#points=input(\"Enter a list of tuples:\")\n",
    "points = [(5, 3), (2, 9), (-2, 7), (-3,-4), (0, 6), (7, -2)]\n",
    "min=math.sqrt((points[0][0])**2+(points[0][1])**2)\n",
    "for i in points:\n",
    "    distance=math.sqrt(((i[0])**2+(i[1])**2))\n",
    "    if distance<min:\n",
    "        min=distance\n",
    "        tuple1=(i[0],i[1])\n",
    "print(\"Minimum distance =\",min)\n",
    "print(\"Here the closest point is\", tuple1,\"which has a distance of\", min, \"from the origin.\")\n"
   ]
  },
  {
   "cell_type": "code",
   "execution_count": null,
   "metadata": {},
   "outputs": [],
   "source": [
    "#SEARCHING\n",
    "def binary_search(data,key):\n",
    "    left=0\n",
    "    right=len(data)-1\n",
    "    while left<=right:\n",
    "        mid_idx=(left+right)//2\n",
    "        mid_val=data[mid_idx]\n",
    "        if mid_val==key:\n",
    "            return mid_idx\n",
    "        elif mid_val>key:\n",
    "            right=mid_idx-1\n",
    "        elif mid_val<key:\n",
    "            left=mid_idx+1\n",
    "    return -1"
   ]
  },
  {
   "cell_type": "code",
   "execution_count": 3,
   "metadata": {},
   "outputs": [
    {
     "name": "stdout",
     "output_type": "stream",
     "text": [
      "['Atiq', 'Fariha', 'Shireen', 'Tanjila']\n"
     ]
    }
   ],
   "source": [
    "# Name sorting(selection)\n",
    "number=[\"Fariha\",\"Tanjila\",\"Shireen\",\"Atiq\"]\n",
    "for i in range(len(number)-1):\n",
    "    min_val=number[i][0]\n",
    "    min_idx=i\n",
    "    for j in range(i+1,len(number)):\n",
    "        if number[j][0]<min_val:\n",
    "            min_val=number[j]\n",
    "            min_idx=j\n",
    "    if min_val<number[i]:\n",
    "        #temp=number[i]\n",
    "        number[i], number[min_idx] = min_val, number[i]\n",
    "        #number[min_idx]=temp\n",
    "print(number)\n"
   ]
  },
  {
   "cell_type": "code",
   "execution_count": 2,
   "metadata": {},
   "outputs": [
    {
     "name": "stdout",
     "output_type": "stream",
     "text": [
      "[2, 3, 9, 17, 21]\n"
     ]
    }
   ],
   "source": [
    "# Bubble sorting\n",
    "number=[17, 3, 9, 21, 2]\n",
    "for i in range(len(number)-1):\n",
    "    for j in range(len(number)-1-i):\n",
    "        if number[j]>number[j+1]:\n",
    "            number[j],number[j+1]=number[j+1],number[j]\n",
    "print(number)\n",
    "\n"
   ]
  },
  {
   "cell_type": "code",
   "execution_count": 12,
   "metadata": {},
   "outputs": [
    {
     "name": "stdout",
     "output_type": "stream",
     "text": [
      "Musk\n",
      "Elon\n",
      "Turing\n",
      "Alan\n"
     ]
    }
   ],
   "source": [
    "#Task 5\n",
    "lst = [ [\"Alan\", 95, 90, 91], [\"Turing\", 92, 90, 83], [\"Elon\", 87, 92, 80], [\"Musk\", 85, 94, 90] ]\n",
    "sub=input()\n",
    "if sub==\"CSE110\":\n",
    "    index=1\n",
    "elif sub==\"PHY111\":\n",
    "    index=2\n",
    "elif sub==\"MAT110\":\n",
    "    index=3\n",
    "for i in range(len(lst)-1):\n",
    "    max_val=lst[i][index]\n",
    "    max_index=i\n",
    "    for j in range(i+1,len(lst)):\n",
    "        if lst[j][index]>max_val:\n",
    "            max_val=lst[j][index]\n",
    "            max_index=j\n",
    "    lst[max_index],lst[i]=lst[i],lst[max_index]\n",
    "for k in lst:\n",
    "    print(k[0])\n"
   ]
  },
  {
   "cell_type": "code",
   "execution_count": 2,
   "metadata": {},
   "outputs": [
    {
     "name": "stdout",
     "output_type": "stream",
     "text": [
      "Not found\n"
     ]
    }
   ],
   "source": [
    "def binary_search(data,size,key):\n",
    "    left=0\n",
    "    right=len(data)-1\n",
    "    while True:\n",
    "        if left==right:\n",
    "            if data[left]==key:\n",
    "                return left\n",
    "            else:\n",
    "                return \"Not found\"\n",
    "            break\n",
    "        mid_idx=(left+right)//2\n",
    "        mid_val=data[mid_idx]\n",
    "        if key==mid_val:\n",
    "            return mid_idx\n",
    "        elif key<mid_val:\n",
    "            right=mid_idx-1\n",
    "        elif key>mid_val:\n",
    "            left=mid_idx+1\n",
    "print(binary_search([-5,5,10,15,20,50,100,150,200,300],10,16))\n",
    "        "
   ]
  },
  {
   "cell_type": "code",
   "execution_count": 4,
   "metadata": {},
   "outputs": [
    {
     "name": "stdout",
     "output_type": "stream",
     "text": [
      "[2, 3, 5, 7, 9, 17, 21]\n"
     ]
    }
   ],
   "source": [
    "number=[17, 3, 9, 21, 2, 7,5]\n",
    "for i in range(len(number)):\n",
    "    mini=number[i]\n",
    "    min_idx=i\n",
    "    for j in range(i,len(number)):\n",
    "        if number[j]<mini:\n",
    "            mini=number[j]\n",
    "            min_idx=j\n",
    "    number[min_idx],number[i]=number[i],number[min_idx]\n",
    "print(number)\n",
    "        \n"
   ]
  },
  {
   "cell_type": "code",
   "execution_count": 9,
   "metadata": {},
   "outputs": [
    {
     "name": "stdout",
     "output_type": "stream",
     "text": [
      "[1, 2, 200, 3, 4, 5]\n"
     ]
    }
   ],
   "source": [
    "list1=[1,2,3,4,5]\n",
    "idx=int(input(\"Enter a index number:\"))\n",
    "number=int(input(\"Enter a number:\"))\n",
    "new_list=[0]*(len(list1)+1)\n",
    "for i in range(len(new_list)):\n",
    "    if i==idx:\n",
    "        new_list[i]=number\n",
    "    elif i<idx:\n",
    "        new_list[i]=list1[i]\n",
    "    elif i>idx:\n",
    "        new_list[i]=list1[i-1]\n",
    "list1=new_list\n",
    "print(list1)"
   ]
  },
  {
   "cell_type": "code",
   "execution_count": null,
   "metadata": {},
   "outputs": [],
   "source": []
  }
 ],
 "metadata": {
  "kernelspec": {
   "display_name": "Python 3",
   "language": "python",
   "name": "python3"
  },
  "language_info": {
   "codemirror_mode": {
    "name": "ipython",
    "version": 3
   },
   "file_extension": ".py",
   "mimetype": "text/x-python",
   "name": "python",
   "nbconvert_exporter": "python",
   "pygments_lexer": "ipython3",
   "version": "3.9.13"
  },
  "orig_nbformat": 4,
  "vscode": {
   "interpreter": {
    "hash": "a873f5a139af5292c00abb590a42701be9dd2fa4416cc2c5cfc6bc387f351db0"
   }
  }
 },
 "nbformat": 4,
 "nbformat_minor": 2
}
