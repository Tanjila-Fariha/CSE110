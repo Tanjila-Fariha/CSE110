{
 "cells": [
  {
   "cell_type": "code",
   "execution_count": 1,
   "metadata": {},
   "outputs": [
    {
     "name": "stdout",
     "output_type": "stream",
     "text": [
      "400\n"
     ]
    }
   ],
   "source": [
    "#Task 1\n",
    "a_tuple = (\"The Institute\", (\"Best Mystery & Thriller\", \"The Silent Patient\", 68821), 75717,\n",
    "           [1, 2, 3, 400, 5, 6, 7], (\"Best Fiction\", \"The Testaments\", 98291))\n",
    "print(a_tuple[3][3])\n"
   ]
  },
  {
   "cell_type": "code",
   "execution_count": 4,
   "metadata": {},
   "outputs": [
    {
     "name": "stdout",
     "output_type": "stream",
     "text": [
      "Size of the tuple is: 4\n",
      "('Best Mystery & Thriller', 'The Silent Patient', 68, 821)\n",
      "('Best Horror', 'The Institute', 75, 717)\n",
      "('Best History & Biography', 'The five', 31, 783)\n",
      "('Best Fiction', 'The Testaments', 98, 291)\n"
     ]
    }
   ],
   "source": [
    "#Task 3\n",
    "book_info = (\n",
    "    (\"Best Mystery & Thriller\", \"The Silent Patient\", 68, 821),\n",
    "    (\"Best Horror\", \"The Institute\", 75, 717),\n",
    "    (\"Best History & Biography\", \"The five\", 31, 783),\n",
    "    (\"Best Fiction\", \"The Testaments\", 98, 291)\n",
    ")\n",
    "print(\"Size of the tuple is:\",len(book_info))\n",
    "for elements in book_info:\n",
    "    print(elements)\n"
   ]
  },
  {
   "cell_type": "code",
   "execution_count": 6,
   "metadata": {},
   "outputs": [
    {
     "name": "stdout",
     "output_type": "stream",
     "text": [
      "1 appears 0 times in the tuple\n"
     ]
    }
   ],
   "source": [
    "# Task 5\n",
    "given_tuple= (10, 8, 5, 2, 10, 15, 10, 8, 5, 8, 8, 2)\n",
    "num=int(input(\"Enter a number:\"))\n",
    "count=given_tuple.count(num)\n",
    "print(num,\"appears\",count,\"times in the tuple\")\n"
   ]
  },
  {
   "cell_type": "code",
   "execution_count": 10,
   "metadata": {},
   "outputs": [
    {
     "name": "stdout",
     "output_type": "stream",
     "text": [
      "{'Harry': 15, 'Draco': 8, 'Nevil': 19, 'Ginie': 18, 'Luna': 14}\n"
     ]
    }
   ],
   "source": [
    "# Task 7\n",
    "dic1 = {'Harry': 15, 'Draco': 8, 'Nevil': 19}\n",
    "dic2 = {'Ginie': 18, 'Luna': 14}\n",
    "dic1_new=dic1.copy()\n",
    "dic2_new=dic2.copy()\n",
    "dic1_new.update(dic2_new)\n",
    "print(dic1_new)"
   ]
  },
  {
   "cell_type": "code",
   "execution_count": 12,
   "metadata": {},
   "outputs": [
    {
     "name": "stdout",
     "output_type": "stream",
     "text": [
      "Average is 200.0\n"
     ]
    }
   ],
   "source": [
    "# Task 8\n",
    "dic = {}\n",
    "pairs = int(input(\"How many pairs you want to add:\"))\n",
    "for i in range(pairs):\n",
    "    key = input(\"Enter the key:\")\n",
    "    value = int(input(\"Enter the values:\"))\n",
    "    dic[key] = value\n",
    "sum=0\n",
    "for key in dic:\n",
    "    sum=sum+dic[key]\n",
    "average=sum/pairs\n",
    "print(\"Average is\",average)\n",
    "#HAVE A PROBLEM WITH INT OR FLOAT OUTPUT\n"
   ]
  },
  {
   "cell_type": "code",
   "execution_count": 15,
   "metadata": {},
   "outputs": [
    {
     "name": "stdout",
     "output_type": "stream",
     "text": [
      "{'Alden Cantrell': 200, 'Pierre Cox': 190}\n"
     ]
    }
   ],
   "source": [
    "#Task 9\n",
    "exam_marks = {'Cierra Vega': 175, 'Alden Cantrell': 200,'Kierra Gentry': 165, 'Pierre Cox': 190}\n",
    "value=int(input(\"Enter a value:\"))\n",
    "dic={}\n",
    "for keys in exam_marks:\n",
    "    if exam_marks[keys]>=value:\n",
    "        dic [keys]=exam_marks[keys]\n",
    "print(dic)\n"
   ]
  },
  {
   "cell_type": "code",
   "execution_count": 4,
   "metadata": {},
   "outputs": [
    {
     "name": "stdout",
     "output_type": "stream",
     "text": [
      "The highest selling book genre is 'mystery' and the number of books sold are 15\n"
     ]
    }
   ],
   "source": [
    "#Task 10\n",
    "dic={'sci fi': 12, 'mystery': 15, 'horror': 8,'mythology': 10, 'young_adult': 4, 'adventure': 14}\n",
    "large_val=0\n",
    "for keys in dic:\n",
    "    if large_val<dic[keys]:\n",
    "        large_val=dic[keys]\n",
    "        genre=keys\n",
    "print(\"The highest selling book genre is\",\"'\"+genre+\"'\",\"and the number of books sold are\",large_val)\n",
    "  "
   ]
  },
  {
   "cell_type": "code",
   "execution_count": 9,
   "metadata": {},
   "outputs": [
    {
     "name": "stdout",
     "output_type": "stream",
     "text": [
      "{'p': 2, 'y': 1, 't': 1, 'h': 1, 'o': 2, 'n': 3, 'r': 2, 'g': 2, 'a': 1, 'm': 2, 'i': 2, 's': 1, 'f': 1, 'u': 1}\n"
     ]
    }
   ],
   "source": [
    "#Task 11\n",
    "words=input(\"Enter a string:\")\n",
    "count=1\n",
    "words=words.replace('\"',\"\")\n",
    "words=words.lower()\n",
    "words=words.replace(\" \",\"\")\n",
    "dic={}\n",
    "for i in words:\n",
    "    if i not in dic:\n",
    "       dic [i]=count\n",
    "    else:\n",
    "        dic [i]=dic[i]+1\n",
    "print(dic)"
   ]
  },
  {
   "cell_type": "code",
   "execution_count": 11,
   "metadata": {},
   "outputs": [
    {
     "name": "stdout",
     "output_type": "stream",
     "text": [
      "6\n"
     ]
    }
   ],
   "source": [
    "#Task 12\n",
    "dict_1 = {'A': [1, 2, 3], 'b': ['1', '2'], \"c\": [4]}\n",
    "items=0\n",
    "for keys in dict_1:\n",
    "    for elements in dict_1[keys]:\n",
    "        items=items+1\n",
    "print(items)"
   ]
  },
  {
   "cell_type": "code",
   "execution_count": 34,
   "metadata": {},
   "outputs": [
    {
     "name": "stdout",
     "output_type": "stream",
     "text": [
      "{}\n"
     ]
    }
   ],
   "source": [
    "#Task 13\n",
    "list_1 = [(\"a\", 1), (\"b\", 2), (\"a\", 3), (\"b\", 1), (\"a\", 2), (\"c\", 1)]\n",
    "list_2=[]\n",
    "dict={}\n",
    "for tuple_1 in list_1:\n",
    "    if tuple_1[0] in dict:\n",
    "        list_2=[tuple_1[1]]\n",
    "        dict [tuple_1[0]]=list_2\n",
    "        print(dict)\n",
    "    #else:\n",
    "    #    list_2.append(tuple_1[1])\n",
    "    #   dict [tuple_1[0]]=list_2\n",
    "print(dict)"
   ]
  },
  {
   "cell_type": "code",
   "execution_count": 12,
   "metadata": {},
   "outputs": [
    {
     "name": "stdout",
     "output_type": "stream",
     "text": [
      "False\n",
      "False\n",
      "False\n",
      "False\n",
      "False\n",
      "True\n",
      "False\n",
      "False\n",
      "False\n",
      "True\n"
     ]
    }
   ],
   "source": [
    "#Task 14\n",
    "var1 = var2 = var3 = var4 = var5 = var6 = False\n",
    "result1 = result2 = result3 = result4 = result5 = result6 = result7 = result8 = result9 = result10 = False\n",
    "var1 = 4 < 3 - 1\n",
    "var2 = var1 and False\n",
    "var3 = False\n",
    "var4 = True\n",
    "var5 = False\n",
    "var6 = var3 and True\n",
    "result1 = (var1 or var2) and (8 * 10 > 45)\n",
    "result2 = (var1 or var2) and (result1 and False)\n",
    "result3 = (var1 and result1) or result2\n",
    "result4 = (var1 or var2) or ((var3 and var1) and False)\n",
    "result5 = (var1 and var2) and (result3 or var1)\n",
    "result6 = ((var3 or var2) and not result5) or True\n",
    "result7 = (var4 and result1) and ((result1 and False) or True)\n",
    "result8 = ((var1 and result3) and (var5 or var6)) and True\n",
    "result9 = ((result2 and var2) or (result7 and var1)) and False\n",
    "result10 = not(var1 and True)\n",
    "print(result1)\n",
    "print(result2)\n",
    "print(result3)\n",
    "print(result4)\n",
    "print(result5)\n",
    "print(result6)\n",
    "print(result7)\n",
    "print(result8)\n",
    "print(result9)\n",
    "print(result10)\n"
   ]
  },
  {
   "cell_type": "code",
   "execution_count": 13,
   "metadata": {},
   "outputs": [
    {
     "name": "stdout",
     "output_type": "stream",
     "text": [
      "False\n",
      "False\n",
      "True\n",
      "False\n",
      "False\n",
      "True\n",
      "False\n",
      "False\n",
      "False\n",
      "True\n"
     ]
    }
   ],
   "source": [
    "#Task 15\n",
    "var1 = False\n",
    "var2 = False\n",
    "var3 = False\n",
    "var4 = False\n",
    "var5 = False\n",
    "var6 = False\n",
    "result1 = False\n",
    "result2 = False\n",
    "result3 = False\n",
    "result4 = False\n",
    "result5 = False\n",
    "result6 = False\n",
    "result7 = False\n",
    "result8 = False\n",
    "result9 = False\n",
    "result10 = False\n",
    "var1 = ((not True) or True) and False\n",
    "var2 = var1 and False\n",
    "var3 = True and not False\n",
    "var4 = False\n",
    "var5 = True\n",
    "var6 = var3 and False\n",
    "result1 = (var1 and var2) and (40 % 3) > 45 or (var5 and var6)\n",
    "result2 = (var1 or var2) or (result1 and False)\n",
    "result3 = (var1 and result1) or result2 or var5\n",
    "result4 = (var1 or var2) or ((var3 and var1) and False)\n",
    "result5 = (var1 and var2) and (result3 or var1)\n",
    "result6 = ((var3 or (not var2)) and (result5)) or True\n",
    "result7 = (var4 and result1) and ((result1 and False) or True)\n",
    "result8 = ((var1 and result3) and ((not var5) or var6)) and True\n",
    "result9 = ((result2 and var2) or ((not result7) and var1)) and not False\n",
    "result10 = not(var1 and True)\n",
    "print(result1)\n",
    "print(result2)\n",
    "print(result3)\n",
    "print(result4)\n",
    "print(result5)\n",
    "print(result6)\n",
    "print(result7)\n",
    "print(result8)\n",
    "print(result9)\n",
    "print(result10)"
   ]
  },
  {
   "cell_type": "code",
   "execution_count": 15,
   "metadata": {},
   "outputs": [
    {
     "name": "stdout",
     "output_type": "stream",
     "text": [
      "5\n",
      "9\n",
      "15\n",
      "25\n",
      "43\n",
      "77\n",
      "143\n",
      "273\n",
      "531\n"
     ]
    }
   ],
   "source": [
    "#Task 16\n",
    "myList = [0, 0, 0, 0, 0, 0, 0, 0, 0, 0]\n",
    "index1 = 0\n",
    "index2 = 0\n",
    "index1 = 1\n",
    "while(index1 < 10):\n",
    "    myList[index1] = index1+4\n",
    "    index2 = 1\n",
    "    while(index2 < index1):\n",
    "        myList[index1] = myList[index1] + myList[index2]-index1\n",
    "        index2 = index2+1\n",
    "    print(myList[index1])\n",
    "    index1 = index1+1\n"
   ]
  },
  {
   "cell_type": "code",
   "execution_count": 16,
   "metadata": {},
   "outputs": [
    {
     "name": "stdout",
     "output_type": "stream",
     "text": [
      "5\n",
      "9\n",
      "15\n",
      "25\n",
      "43\n",
      "77\n",
      "143\n",
      "273\n",
      "531\n"
     ]
    }
   ],
   "source": [
    "#Task 17\n",
    "myList = [0, 0, 0, 0, 0, 0, 0, 0, 0, 0]\n",
    "index1 = 0\n",
    "index2 = 0\n",
    "index1 = 1\n",
    "while (index1 < 10):\n",
    "    myList[index1] = index1 + 4\n",
    "    index2 = 1\n",
    "    while (index2 < index1):\n",
    "        myList[index1] = myList[index1] + myList[index2] - index1\n",
    "        index2 = index2 + 1\n",
    "    print(myList[index1])\n",
    "    index1 = index1 + 1\n",
    "    \n",
    "\n"
   ]
  },
  {
   "cell_type": "code",
   "execution_count": 17,
   "metadata": {},
   "outputs": [
    {
     "name": "stdout",
     "output_type": "stream",
     "text": [
      "3\n",
      "5\n",
      "7\n",
      "9\n",
      "11\n",
      "13\n",
      "15\n",
      "17\n",
      "19\n"
     ]
    }
   ],
   "source": [
    "#Task 18\n",
    "myList = [0, 0, 0, 0, 0, 0, 0, 0, 0, 0]\n",
    "b = []\n",
    "index1 = 0\n",
    "index2 = 0\n",
    "index1 = 1\n",
    "b = myList\n",
    "while(index1<10):\n",
    "    myList[index1] = index1+2\n",
    "    index2 = 1\n",
    "    while(index2 < index1):\n",
    "        myList[index1] = b[index1]+myList[index2]-index1\n",
    "        index2 = index2+1\n",
    "    print(myList[index1])\n",
    "    index1 = index1+1\n"
   ]
  },
  {
   "cell_type": "code",
   "execution_count": 18,
   "metadata": {},
   "outputs": [
    {
     "name": "stdout",
     "output_type": "stream",
     "text": [
      "2\n",
      "0\n",
      "-1\n",
      "-5\n",
      "-11\n",
      "-22\n",
      "-40\n",
      "-70\n",
      "-119\n"
     ]
    }
   ],
   "source": [
    "#Task 19\n",
    "myList = [0, 0, 0, 0, 0, 0, 0, 0, 0, 0]\n",
    "b = []\n",
    "index1 = 0\n",
    "index2 = 0\n",
    "index1 = 1\n",
    "b = myList\n",
    "while (index1 < 10):\n",
    "    myList[index1] = index1 + 1\n",
    "    index2 = 1\n",
    "    while (index2 < index1):\n",
    "        myList[index1] = b[index2-1] + myList[index2] - index1\n",
    "        index2 = index2 + 1\n",
    "    print(myList[index1])\n",
    "    index1 = index1 + 1"
   ]
  },
  {
   "cell_type": "code",
   "execution_count": null,
   "metadata": {},
   "outputs": [],
   "source": [
    "#Task 20"
   ]
  },
  {
   "cell_type": "code",
   "execution_count": 7,
   "metadata": {},
   "outputs": [
    {
     "name": "stdout",
     "output_type": "stream",
     "text": [
      "([1, 2, '(8,9,0)'], [4, 5, '(8,9,0)'], [7, 8, '(8,9,0)'], [10, 11, '(8,9,0)'])\n"
     ]
    }
   ],
   "source": [
    "#Task 21\n",
    "val=input(\"Enter a data:\")\n",
    "a_tuple = ([1, 2, 3], [4, 5, 6], [7, 8, 9], [10, 11, 12])\n",
    "a_list=list(a_tuple)\n",
    "for element in a_list:\n",
    "    element[-1]=val\n",
    "new_tuple=tuple(a_list)\n",
    "print(new_tuple)\n",
    "\n"
   ]
  },
  {
   "cell_type": "code",
   "execution_count": 22,
   "metadata": {},
   "outputs": [
    {
     "name": "stdout",
     "output_type": "stream",
     "text": [
      "{'c1': 'Red', 'c2': 'Green', 'd4': 'Blue'}\n"
     ]
    }
   ],
   "source": [
    "#Task 22\n",
    "my_dictionary = {'c1': 'Red', 'c2': 'Green', 'c3': None, 'd4': 'Blue', 'a5': None}\n",
    "my_dictionary={k:v for k,v in my_dictionary.items() if v!=None}\n",
    "print(my_dictionary)\n",
    "#don't want to use this method"
   ]
  },
  {
   "cell_type": "code",
   "execution_count": 24,
   "metadata": {},
   "outputs": [
    {
     "name": "stdout",
     "output_type": "stream",
     "text": [
      "{}\n"
     ]
    }
   ],
   "source": [
    "#Task 23\n",
    "val_lower=int(input(\"Enter the lower value:\"))\n",
    "val_upper=int(input(\"Enter the upper value:\"))\n",
    "dict_1 = {'a': 6, 'b': 7, 'c': 9, 'd': 8, 'e': 11, 'f': 12, 'g': 13}\n",
    "dict_2={}\n",
    "for key in dict_1:\n",
    "    if dict_1[key]>=val_lower and dict_1[key]<val_upper:\n",
    "        dict_2[key]=dict_1[key]\n",
    "print(dict_2)\n"
   ]
  },
  {
   "cell_type": "code",
   "execution_count": 29,
   "metadata": {},
   "outputs": [
    {
     "name": "stdout",
     "output_type": "stream",
     "text": [
      "{'Sad': [(20, 'Sad'), (31, 'Sad')], 'NotSad': [(88, 'NotSad'), (27, 'NotSad')]}\n"
     ]
    }
   ],
   "source": [
    "#Task 24\n",
    "lot = [(20, 'Sad'), (31, 'Sad'), (88, 'NotSad'), (27, 'NotSad')]\n",
    "dict={}\n",
    "for tuples in lot:\n",
    "    if tuples[1] not in dict:\n",
    "        dict[tuples[1]]=[tuples]\n",
    "    else:\n",
    "        dict[tuples[1]].append(tuples)\n",
    "print(dict)\n"
   ]
  },
  {
   "cell_type": "code",
   "execution_count": 35,
   "metadata": {},
   "outputs": [
    {
     "name": "stdout",
     "output_type": "stream",
     "text": [
      "Words in the given String: ['I', 'love', 'Programming', 'Python', 'is', 'love']\n",
      "{'$': ['I'], '&': ['love', 'Python'], '#': ['Programming'], '@': ['is']}\n"
     ]
    }
   ],
   "source": [
    "#Task 25\n",
    "sentences=input(\"Enter a string:\")\n",
    "list_str=input(\"Enter a list:\")\n",
    "sentences=sentences.replace(\".\",\"\")\n",
    "list1=sentences.split(\" \")\n",
    "print(\"Words in the given String:\",list1)\n",
    "dict={}\n",
    "list_str=list_str.replace(\"[\",\"\")\n",
    "list_str=list_str.replace(\"]\",\"\")\n",
    "list_str=list_str.replace(\" \",\"\")\n",
    "list2=list_str.split(\",\")\n",
    "list3=[]\n",
    "sum=0\n",
    "for word in list1:\n",
    "    if word not in list3:\n",
    "        for letter in word:\n",
    "            sum=sum+ord(letter)\n",
    "        key = list2[sum % (len(list2))]\n",
    "        if key not in dict:\n",
    "            dict[key]=[word]\n",
    "        else:\n",
    "            dict[key].append(word)\n",
    "        sum=0\n",
    "        list3.append(word)\n",
    "print(\"Answer:\",dict)"
   ]
  },
  {
   "cell_type": "code",
   "execution_count": 37,
   "metadata": {},
   "outputs": [
    {
     "name": "stdout",
     "output_type": "stream",
     "text": [
      "((1232,), (4455, 1234, 9876, 1111))\n"
     ]
    }
   ],
   "source": [
    "nums=input(\"Enter a string of numbers:\")\n",
    "nums=nums.replace(\" \",\"\")\n",
    "num_list=nums.split(\",\")\n",
    "odd_sum=0\n",
    "even_sum=0\n",
    "magic_list=[]\n",
    "nonmagic_list=[]\n",
    "final_list=[]\n",
    "for num_str in num_list:\n",
    "    for digit in num_str:\n",
    "        if int(digit)%2==0:\n",
    "            even_sum=even_sum+int(digit)\n",
    "        else:\n",
    "            odd_sum=odd_sum+int(digit)\n",
    "    if even_sum==odd_sum:\n",
    "        magic_list.append(int(num_str))\n",
    "    else:\n",
    "        nonmagic_list.append(int(num_str))\n",
    "    even_sum=0\n",
    "    odd_sum=0\n",
    "subtuple1=tuple(magic_list)\n",
    "subtuple2=tuple(nonmagic_list)\n",
    "final_list.append(subtuple1)\n",
    "final_list.append(subtuple2)\n",
    "final_tuple=tuple(final_list)\n",
    "print(final_tuple)\n"
   ]
  }
 ],
 "metadata": {
  "kernelspec": {
   "display_name": "Python 3.9.13 64-bit (microsoft store)",
   "language": "python",
   "name": "python3"
  },
  "language_info": {
   "codemirror_mode": {
    "name": "ipython",
    "version": 3
   },
   "file_extension": ".py",
   "mimetype": "text/x-python",
   "name": "python",
   "nbconvert_exporter": "python",
   "pygments_lexer": "ipython3",
   "version": "3.9.13"
  },
  "orig_nbformat": 4,
  "vscode": {
   "interpreter": {
    "hash": "a873f5a139af5292c00abb590a42701be9dd2fa4416cc2c5cfc6bc387f351db0"
   }
  }
 },
 "nbformat": 4,
 "nbformat_minor": 2
}
