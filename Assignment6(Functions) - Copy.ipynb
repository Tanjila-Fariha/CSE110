{
 "cells": [
  {
   "cell_type": "code",
   "execution_count": 2,
   "metadata": {},
   "outputs": [
    {
     "name": "stdout",
     "output_type": "stream",
     "text": [
      "Even!!\n"
     ]
    }
   ],
   "source": [
    "#Task 1\n",
    "def even_checker(num):\n",
    "    if num%2==0:\n",
    "        print(\"Even!!\")\n",
    "    else:\n",
    "        print(\"Odd!!\")\n",
    "even_checker(2)\n"
   ]
  },
  {
   "cell_type": "code",
   "execution_count": 16,
   "metadata": {},
   "outputs": [
    {
     "name": "stdout",
     "output_type": "stream",
     "text": [
      "0\n"
     ]
    }
   ],
   "source": [
    "#Task 2\n",
    "def fibonacci(num):\n",
    "    num1=0\n",
    "    num2=1\n",
    "    if num==0:\n",
    "        print(0)\n",
    "    else:\n",
    "        print(0,end=\" \")\n",
    "        print(1,end=\" \")\n",
    "        n=0\n",
    "        while True:\n",
    "            n = num1+num2\n",
    "            if n>num:\n",
    "                break\n",
    "            print(n,end=\" \")\n",
    "            num1=num2\n",
    "            num2=n\n",
    "fibonacci(0)\n"
   ]
  },
  {
   "cell_type": "code",
   "execution_count": 55,
   "metadata": {},
   "outputs": [
    {
     "name": "stdout",
     "output_type": "stream",
     "text": [
      "Boo\n"
     ]
    }
   ],
   "source": [
    "#Task 3\n",
    "def foo_moo(num):\n",
    "    if num%2==0 and num%3==0:\n",
    "        return \"FooMoo\"\n",
    "    elif num%2==0:\n",
    "        return \"Foo\"\n",
    "    elif num%3==0:\n",
    "        return \"Moo\"\n",
    "    else:\n",
    "        return \"Boo\"\n",
    "print(foo_moo(5))\n"
   ]
  },
  {
   "cell_type": "code",
   "execution_count": 23,
   "metadata": {},
   "outputs": [
    {
     "name": "stdout",
     "output_type": "stream",
     "text": [
      "No. of Uppercase characters : 5\n",
      "No. of Lowercase Characters: 6\n",
      "No. of Uppercase characters : 3\n",
      "No. of Lowercase Characters: 12\n"
     ]
    }
   ],
   "source": [
    "#Task 4:\n",
    "def function_name(s):\n",
    "    s=str(s)\n",
    "    upper=0\n",
    "    lower=0\n",
    "    for i in s:\n",
    "        if i>='A' and i<='Z':\n",
    "            upper=upper+1\n",
    "        elif i>='a' and i<='z':\n",
    "            lower=lower+1\n",
    "    print(\"No. of Uppercase characters :\",upper)\n",
    "    print(\"No. of Lowercase Characters:\",lower)\n"
   ]
  },
  {
   "cell_type": "code",
   "execution_count": 34,
   "metadata": {},
   "outputs": [
    {
     "data": {
      "text/plain": [
       "0"
      ]
     },
     "execution_count": 34,
     "metadata": {},
     "output_type": "execute_result"
    }
   ],
   "source": [
    "#Task 5\n",
    "#question confusing\n",
    "#def er vitore input nite hobe naki baire?\n",
    "age = int(input(\"Enter your age:\"))\n",
    "salary = int(input(\"Enter your salary:\"))\n",
    "job = input(\"Enter your job designation:\")\n",
    "job = job.lower\n",
    "def calculate_tax(age,salary,job):\n",
    "    if age<18 or job=='president' or salary<10000:\n",
    "        return 0\n",
    "    elif 10000<=salary<=20000:\n",
    "        return (salary*5*(1/100))\n",
    "    else:\n",
    "        return (salary*10*(1/100))\n",
    "calculate_tax(age,salary,job)\n",
    "    "
   ]
  },
  {
   "cell_type": "code",
   "execution_count": 40,
   "metadata": {},
   "outputs": [
    {
     "name": "stdout",
     "output_type": "stream",
     "text": [
      "11 years, 10 months and 15 days\n"
     ]
    }
   ],
   "source": [
    "#Task 6\n",
    "days=int(input(\"Enter the number of days:\"))\n",
    "def function_name(days):\n",
    "    years=days//365\n",
    "    months=(days%365)//30\n",
    "    day = (days % 365)%30\n",
    "    print(years,\"years,\",months,\"months and\",day,\"days\")\n",
    "function_name(days)\n"
   ]
  },
  {
   "cell_type": "code",
   "execution_count": 1,
   "metadata": {},
   "outputs": [
    {
     "name": "stdout",
     "output_type": "stream",
     "text": [
      "123454321\n"
     ]
    }
   ],
   "source": [
    "# Task 7\n",
    "def show_palindrome(num):\n",
    "    str1 = \"\"\n",
    "    for i in range(1, num+1):\n",
    "        str1 = str1+str(i)\n",
    "    str2=str1[-2::-1]\n",
    "    str1 = str1+str2\n",
    "    return str1\n",
    "\n",
    "\n",
    "print(show_palindrome(5))\n"
   ]
  },
  {
   "cell_type": "code",
   "execution_count": null,
   "metadata": {},
   "outputs": [],
   "source": []
  },
  {
   "cell_type": "code",
   "execution_count": 27,
   "metadata": {},
   "outputs": [
    {
     "name": "stdout",
     "output_type": "stream",
     "text": [
      "    1     \n",
      "  1 2 1   \n",
      "1 2 3 2 1 \n"
     ]
    }
   ],
   "source": [
    "#Task 8\n",
    "def show_palindrome(num):\n",
    "    str1=\"\"\n",
    "    for i in range(1,num+1):\n",
    "        str1=str1+str(i)\n",
    "    for i in range(num-1,0,-1):\n",
    "        str1=str1+str(i)\n",
    "    return str1\n",
    "\n",
    "\n",
    "def show_palindromic_triangle(number):\n",
    "    str3=\" \"\n",
    "    for i in range(1,number+1):\n",
    "        str2=show_palindrome(i)\n",
    "        print(str3*((number-i)*2), end=\"\")\n",
    "        for j in str2:\n",
    "            print(j,end=\" \")\n",
    "        print(str3*((number-i)*2))\n",
    "\n",
    "show_palindromic_triangle(3)"
   ]
  },
  {
   "cell_type": "code",
   "execution_count": 2,
   "metadata": {},
   "outputs": [
    {
     "name": "stdout",
     "output_type": "stream",
     "text": [
      "Area of the circle is 3.141592653589793 and circumference is 6.283185307179586\n"
     ]
    },
    {
     "data": {
      "text/plain": [
       "(3.141592653589793, 6.283185307179586)"
      ]
     },
     "execution_count": 2,
     "metadata": {},
     "output_type": "execute_result"
    }
   ],
   "source": [
    "#Task 9\n",
    "#problem\n",
    "import math\n",
    "def area_circumference_generator(radius):\n",
    "    area=math.pi*(radius**2)\n",
    "    circumference=2*math.pi*radius\n",
    "    tuple1=(area,circumference)\n",
    "    a,b=tuple1\n",
    "    print(\"Area of the circle is\", a, \"and circumference is\",b)\n",
    "    return tuple1\n",
    "area_circumference_generator(1)\n",
    "    \n"
   ]
  },
  {
   "cell_type": "code",
   "execution_count": 11,
   "metadata": {},
   "outputs": [
    {
     "data": {
      "text/plain": [
       "{1: 1, 2: 4, 3: 9}"
      ]
     },
     "execution_count": 11,
     "metadata": {},
     "output_type": "execute_result"
    }
   ],
   "source": [
    "#Task 10\n",
    "def make_square(tuple1):\n",
    "    a,b=tuple1\n",
    "    dic={}\n",
    "    for i in range(a,b+1):\n",
    "        dic[i]=i**2\n",
    "    return dic\n",
    "\n",
    "\n",
    "make_square((1, 3))\n"
   ]
  },
  {
   "cell_type": "code",
   "execution_count": 3,
   "metadata": {},
   "outputs": [
    {
     "name": "stdout",
     "output_type": "stream",
     "text": [
      "(1, 2, 3, 4, 5, 6, 0)\n",
      "('Hi', 1, 2, 3, 'a', [1, 2])\n"
     ]
    }
   ],
   "source": [
    "#Task 11\n",
    "def rem_duplicate(tuple1):\n",
    "    list1=list(tuple1)\n",
    "    list2=[]\n",
    "    for i in list1:\n",
    "        if i not in list2:\n",
    "            list2.append(i)\n",
    "    return tuple(list2)\n",
    "\n",
    "\n",
    "print(rem_duplicate((1, 1, 1, 2, 3, 4, 5, 6, 6, 6, 6, 4, 0, 0, 0)))\n",
    "\n",
    "print(rem_duplicate((\"Hi\", 1, 2, 3, 3, \"Hi\", 'a', 'a', [1, 2])))\n"
   ]
  },
  {
   "cell_type": "code",
   "execution_count": 17,
   "metadata": {},
   "outputs": [
    {
     "name": "stdout",
     "output_type": "stream",
     "text": [
      "Removed: 2\n"
     ]
    },
    {
     "data": {
      "text/plain": [
       "[1, 2, 3, 3, 4, 5, 8, 8]"
      ]
     },
     "execution_count": 17,
     "metadata": {},
     "output_type": "execute_result"
    }
   ],
   "source": [
    "#Task 12\n",
    "def function_name(list1):\n",
    "    list_name=[]\n",
    "    for i in list1:\n",
    "        if list_name.count(i)<2:\n",
    "            list_name.append(i)\n",
    "    print(\"Removed:\",(len(list1)-len(list_name)))\n",
    "    return list_name\n",
    "\n",
    "function_name([1, 2, 3, 3, 3, 3, 4, 5, 8, 8])"
   ]
  },
  {
   "cell_type": "code",
   "execution_count": 20,
   "metadata": {},
   "outputs": [
    {
     "data": {
      "text/plain": [
       "13.75"
      ]
     },
     "execution_count": 20,
     "metadata": {},
     "output_type": "execute_result"
    }
   ],
   "source": [
    "#Task 13\n",
    "operator=input(\"Enter a operator:\")\n",
    "operand1=float(input(\"Enter 1st operand:\"))\n",
    "operand2=float(input(\"Enter 2nd operand:\"))\n",
    "def function_name(operator,operand1,operand2):\n",
    "    if operator=='+':\n",
    "        return operand1+operand2\n",
    "    elif operator==\"-\":\n",
    "        return operand1-operand2\n",
    "    elif operator==\"*\":\n",
    "        return operand1*operand2\n",
    "    elif operator==\"/\":\n",
    "        return operand1/operand2\n",
    "function_name(operator,operand1,operand2)"
   ]
  },
  {
   "cell_type": "code",
   "execution_count": 43,
   "metadata": {},
   "outputs": [
    {
     "name": "stdout",
     "output_type": "stream",
     "text": [
      "Pythonis eay to earn.I lov pythn. sl eo\n"
     ]
    }
   ],
   "source": [
    "#Task 14\n",
    "sentence=input(\"Enter a sentence:\")\n",
    "position=int(input(\"Enter a position:\"))\n",
    "def function_name(sentence,position):\n",
    "    str1=sentence[0]\n",
    "    str2=\"\"\n",
    "    for i in range(1,len(sentence)):\n",
    "        if i%position==0:\n",
    "            str2=str2+sentence[i]\n",
    "        else:\n",
    "            str1=str1+sentence[i]\n",
    "    str3=str1+str2\n",
    "    print(str3)\n",
    "function_name(sentence,position)\n"
   ]
  },
  {
   "cell_type": "code",
   "execution_count": 54,
   "metadata": {},
   "outputs": [
    {
     "name": "stdout",
     "output_type": "stream",
     "text": [
      "685\n"
     ]
    }
   ],
   "source": [
    "#Task 15\n",
    "order_items=input(\"Enter a list:\")\n",
    "order_items = order_items.replace(\"[\", \"\").replace(\"]\", \"\").replace('\"',\"\").replace(\" \",\"\").split(\",\")\n",
    "def function_name(list1,location=\"Dhanmondi\"):\n",
    "    dict = {'Rice': 105, \n",
    "            'Potato': 20,\n",
    "            'Chicken': 250,\n",
    "            'Beef': 510,\n",
    "            'Oil': 85}\n",
    "    price=0\n",
    "    for items in list1:\n",
    "        if items in dict.keys():\n",
    "            price=price+dict[items]\n",
    "    if location==\"Dhanmondi\":\n",
    "        price=price+30\n",
    "    else:\n",
    "        price=price+70\n",
    "    return price\n",
    "print(function_name(order_items,\"Moha\"))   "
   ]
  },
  {
   "cell_type": "code",
   "execution_count": 5,
   "metadata": {},
   "outputs": [
    {
     "name": "stdout",
     "output_type": "stream",
     "text": [
      "12.0\n",
      "29.0\n",
      "45.0\n",
      "21.0\n",
      "42.0\n",
      "65.0\n",
      "26.0\n",
      "52.0\n",
      "80.0\n",
      "110.0\n"
     ]
    }
   ],
   "source": [
    "# Task 16\n",
    "x = 0\n",
    "y = 0\n",
    "sum = 0\n",
    "p = 0.0\n",
    "while (x < 9):\n",
    "    y = x/2\n",
    "    while (y < x):\n",
    "        p = (x + 5.0) / 2\n",
    "        sum = sum+2 + x + y*2 + int(p)\n",
    "        print(sum)\n",
    "        y = y+1\n",
    "    x = x+2\n",
    "    if (x > 5):\n",
    "        sum = 2\n",
    "    else:\n",
    "        sum += 3\n"
   ]
  },
  {
   "cell_type": "code",
   "execution_count": 7,
   "metadata": {},
   "outputs": [
    {
     "name": "stdout",
     "output_type": "stream",
     "text": [
      "0 1 1 2 3  \n"
     ]
    }
   ],
   "source": [
    "#Task 2 of nibir\n",
    "def fibonacci(x):\n",
    "    a=0\n",
    "    b=1\n",
    "    if x==0:\n",
    "        print(a)\n",
    "    else:\n",
    "        print(a,b,end=\" \")\n",
    "        for i in range(1,x+1):\n",
    "            c=a+b\n",
    "            a=b\n",
    "            b=c\n",
    "            if c<=x:\n",
    "                print(c,end=\" \")\n",
    "    return \" \"\n",
    "num=int(input(\"Enter num\"))\n",
    "print(fibonacci(num))"
   ]
  },
  {
   "cell_type": "code",
   "execution_count": 45,
   "metadata": {},
   "outputs": [
    {
     "name": "stdout",
     "output_type": "stream",
     "text": [
      "23\n",
      "46\n",
      "52\n",
      "75\n",
      "98\n",
      "121\n",
      "144\n",
      "167\n",
      "190\n",
      "213\n"
     ]
    }
   ],
   "source": [
    "#Task 17\n",
    "x = 0\n",
    "y = 0\n",
    "sum = 0\n",
    "while (x < 10):\n",
    "    y = x - 3\n",
    "    y = 40\n",
    "    while (y > 22):\n",
    "        if ((sum > 30) and (sum < 40)):\n",
    "            sum=sum+x*2\n",
    "        elif((sum > 40) and (sum < 50)):\n",
    "            sum = sum + x * 3\n",
    "        else:\n",
    "            sum = sum + 23\n",
    "        print(sum)\n",
    "        y=y-10\n",
    "    x+=2\n"
   ]
  },
  {
   "cell_type": "code",
   "execution_count": 1,
   "metadata": {},
   "outputs": [
    {
     "name": "stdout",
     "output_type": "stream",
     "text": [
      "6\n",
      "4\n",
      "2\n",
      "0\n",
      "-2\n",
      "-4\n",
      "3\n",
      "1\n",
      "-1\n",
      "-2\n"
     ]
    }
   ],
   "source": [
    "#Task 18\n",
    "x=y=0\n",
    "sum=0\n",
    "while (x<10):\n",
    "    y=x-3\n",
    "    while (y<3):\n",
    "        sum = x - y * 2\n",
    "        print(sum)\n",
    "        y = y + 1\n",
    "    if (x>7):\n",
    "        x+=1\n",
    "    else:\n",
    "        x+=3\n",
    "sum = x - y * 2\n",
    "print(sum)"
   ]
  },
  {
   "cell_type": "code",
   "execution_count": 9,
   "metadata": {},
   "outputs": [
    {
     "name": "stdout",
     "output_type": "stream",
     "text": [
      "4\n",
      "9\n",
      "16\n",
      "25\n",
      "39\n",
      "56\n",
      "78\n",
      "104\n",
      "134\n",
      "147\n"
     ]
    }
   ],
   "source": [
    "# Task 19\n",
    "x = 0\n",
    "p = 0\n",
    "sum = 0\n",
    "p = 1\n",
    "x = 2\n",
    "q = 0.0\n",
    "sum = 0\n",
    "while (p < 12):\n",
    "    q = x + p - (sum + int(5 / 3)) / 3.0 % 2\n",
    "    sum = sum + x + int(q)\n",
    "    x += 1\n",
    "    print(sum)\n",
    "    if (x > 5):\n",
    "        p += int(4 / 2)\n",
    "    else:\n",
    "        p += 3 % 1\n",
    "sum = sum+p\n",
    "print(sum)\n"
   ]
  },
  {
   "cell_type": "code",
   "execution_count": 2,
   "metadata": {},
   "outputs": [
    {
     "name": "stdout",
     "output_type": "stream",
     "text": [
      "-->dog<--28\n",
      "-->dog<--28-->115\n",
      "-->dog<--28-->115<--27\n",
      "-->dog<--28-->115<--27-->113\n",
      "-->dog<--28-->115<--27-->113-->115\n",
      "-->dog<--28-->115<--27-->113-->115<--37\n",
      "-->dog<--28-->115<--27-->113-->115<--37-->113\n",
      "-->dog<--28-->115<--27-->113-->115<--37-->113<--47\n",
      "-->dog<--28-->115<--27-->113-->115<--37-->113<--47-->213\n",
      "-->dog<--28-->115<--27-->113-->115<--37-->113<--47-->213-->213\n"
     ]
    }
   ],
   "source": [
    "#Task 20\n",
    "i = 2\n",
    "j = 0\n",
    "k = 17\n",
    "test = \"-->dog\"\n",
    "while i < 7:\n",
    "    k -= 1\n",
    "    j = k\n",
    "    while j > 12:\n",
    "        if (j % 2 == 0):\n",
    "            test += \"<--\"\n",
    "            test = test + str(i) + str(j // 2)\n",
    "        else:\n",
    "            test += \"-->\"\n",
    "            test = test + str(i // 2) + str(j)\n",
    "        print(test)\n",
    "        j -= 1\n",
    "    i+=1"
   ]
  },
  {
   "cell_type": "code",
   "execution_count": 3,
   "metadata": {},
   "outputs": [
    {
     "name": "stdout",
     "output_type": "stream",
     "text": [
      "<--53-->4\n",
      "-->1-->13\n",
      "<--53-->4\n",
      "-->1-->11\n",
      "-->2-->13\n",
      "<--63-->4\n",
      "-->2-->11\n",
      "<--73-->4\n",
      "-->2-->11\n",
      "-->2-->11\n"
     ]
    }
   ],
   "source": [
    "#task 21\n",
    "test = \"\"\n",
    "i = 5\n",
    "j = 0\n",
    "k = 15\n",
    "while (i < 10):\n",
    "    k -= 1\n",
    "    j = k\n",
    "    while (j>10):\n",
    "        if j%2==0:\n",
    "            test = \"<--\"\n",
    "            test = test + str(i) + '3' + \"-->\" + str(j // 3)\n",
    "        else:\n",
    "            test = \"-->\"\n",
    "            test = \"-->\" + str((i // 3)) + test + str(j)\n",
    "        print(test)\n",
    "        j -=1\n",
    "    i +=1"
   ]
  },
  {
   "cell_type": "code",
   "execution_count": 4,
   "metadata": {},
   "outputs": [
    {
     "name": "stdout",
     "output_type": "stream",
     "text": [
      "5 == 5\n",
      "2 == 2\n",
      "0 == 0\n",
      "-3 != -2\n",
      "-5 != -5\n",
      "-8 != -7\n",
      "-10 != -10\n"
     ]
    }
   ],
   "source": [
    "#Task 22\n",
    "i = 10\n",
    "while(i >= -20):\n",
    "    if(i < 0):\n",
    "        test = \" != \"\n",
    "        test = str(i//2) + test + str(int(i/2))\n",
    "    else:\n",
    "        test = \" == \"\n",
    "        test = str(i//2) + test + str(int(i/2))\n",
    "    print(test)\n",
    "    i -=5\n",
    "\n",
    "\n",
    "\n"
   ]
  },
  {
   "cell_type": "code",
   "execution_count": 74,
   "metadata": {},
   "outputs": [
    {
     "name": "stdout",
     "output_type": "stream",
     "text": [
      "500 Taka: 2 note(s)\n",
      "100 Taka: 2 note(s)\n",
      "50 Taka: 0 note(s)\n",
      "20 Taka: 1 note(s)\n",
      "10 Taka: 1 note(s)\n",
      "2 Taka: 2 note(s)\n",
      "\n"
     ]
    }
   ],
   "source": [
    "#Task 23\n",
    "def splitting_money(amount):\n",
    "    note500=amount//500\n",
    "    remaining=amount%500\n",
    "    note100=remaining//100\n",
    "    remaining=remaining%100\n",
    "    note50=remaining//50\n",
    "    remaining=remaining%50\n",
    "    note20=remaining//20\n",
    "    remaining=remaining%20\n",
    "    note10=remaining//10\n",
    "    remaining=remaining%10\n",
    "    note5=remaining//5\n",
    "    remaining=remaining%5\n",
    "    note2=remaining//2\n",
    "    remaining=remaining%2\n",
    "    note1=remaining\n",
    "    return (\"500 Taka: \"+str(note500)+\" note(s)\\n\"\n",
    "            \"100 Taka: \"+ str(note100)+\" note(s)\\n\"\n",
    "            \"50 Taka: \"+str(note50)+\" note(s)\\n\"\n",
    "            \"20 Taka: \"+ str(note20)+\" note(s)\\n\"\n",
    "            \"10 Taka: \"+str(note10)+\" note(s)\\n\"\n",
    "            \"2 Taka: \"+str(note2)+\" note(s)\\n\")\n",
    "print(splitting_money(1234))\n"
   ]
  },
  {
   "cell_type": "code",
   "execution_count": 75,
   "metadata": {},
   "outputs": [
    {
     "data": {
      "text/plain": [
       "[44, 66, 88, 10]"
      ]
     },
     "execution_count": 75,
     "metadata": {},
     "output_type": "execute_result"
    }
   ],
   "source": [
    "#Task 24\n",
    "def remove_odd(list1):\n",
    "    list2=[]\n",
    "    for i in list1:\n",
    "        if i%2==0:\n",
    "            list2.append(i)\n",
    "    return list2\n",
    "\n",
    "\n",
    "remove_odd([21, 33, 44, 66, 11, 1, 88, 45, 10, 9])\n"
   ]
  }
 ],
 "metadata": {
  "kernelspec": {
   "display_name": "Python 3.9.13 64-bit (microsoft store)",
   "language": "python",
   "name": "python3"
  },
  "language_info": {
   "codemirror_mode": {
    "name": "ipython",
    "version": 3
   },
   "file_extension": ".py",
   "mimetype": "text/x-python",
   "name": "python",
   "nbconvert_exporter": "python",
   "pygments_lexer": "ipython3",
   "version": "3.9.13"
  },
  "orig_nbformat": 4,
  "vscode": {
   "interpreter": {
    "hash": "a873f5a139af5292c00abb590a42701be9dd2fa4416cc2c5cfc6bc387f351db0"
   }
  }
 },
 "nbformat": 4,
 "nbformat_minor": 2
}
