{
 "cells": [
  {
   "cell_type": "code",
   "execution_count": 2,
   "metadata": {},
   "outputs": [],
   "source": [
    "#2\n",
    "#the fortune teller\n",
    "dict = {'a': 1, 'j': 1, 's': 1, 'b': 2, 'k': 2, 't': 2, 'c': 3, 'l': 3, 'u': 3,\n",
    "        'd': 4, 'm': 4, 'v': 4, 'e': 5, 'n': 5, 'w': 5, 'f': 6, 'o': 6, 'x': 6,\n",
    "        'g': 7, 'p': 7, 'y': 7, 'h': 8, 'q': 8, 'z': 8, 'i': 9, 'r': 9}\n",
    "while True:\n",
    "    try:\n",
    "        name = input().lower().replace(\" \", \"\")\n",
    "        sum = 0\n",
    "        for i in name:\n",
    "            sum += dict[i]\n",
    "        lucky = 0\n",
    "        while lucky < 1 or lucky > 9:\n",
    "            lucky = 0\n",
    "            for j in str(sum):\n",
    "                lucky += int(j)\n",
    "            if lucky < 1 or lucky > 9:\n",
    "                sum = lucky\n",
    "        print(lucky)\n",
    "    except:\n",
    "        break"
   ]
  },
  {
   "cell_type": "code",
   "execution_count": 67,
   "metadata": {},
   "outputs": [
    {
     "name": "stdout",
     "output_type": "stream",
     "text": [
      "[3, 1, 2, 4] [0, 1, 2, 0, 3]\n"
     ]
    },
    {
     "ename": "AssertionError",
     "evalue": "(2, 2, 1)",
     "output_type": "error",
     "traceback": [
      "\u001b[1;31m---------------------------------------------------------------------------\u001b[0m",
      "\u001b[1;31mAssertionError\u001b[0m                            Traceback (most recent call last)",
      "\u001b[1;32mc:\\Users\\farih\\Desktop\\code\\Beecrowd.ipynb Cell 2'\u001b[0m in \u001b[0;36m<module>\u001b[1;34m\u001b[0m\n\u001b[0;32m     <a href='vscode-notebook-cell:/c%3A/Users/farih/Desktop/code/Beecrowd.ipynb#ch0000001?line=14'>15</a>\u001b[0m     \u001b[39mreturn\u001b[39;00m highfive\n\u001b[0;32m     <a href='vscode-notebook-cell:/c%3A/Users/farih/Desktop/code/Beecrowd.ipynb#ch0000001?line=16'>17</a>\u001b[0m \u001b[39m# while True:\u001b[39;00m\n\u001b[0;32m     <a href='vscode-notebook-cell:/c%3A/Users/farih/Desktop/code/Beecrowd.ipynb#ch0000001?line=17'>18</a>\u001b[0m \u001b[39m#     try:\u001b[39;00m\n\u001b[0;32m     <a href='vscode-notebook-cell:/c%3A/Users/farih/Desktop/code/Beecrowd.ipynb#ch0000001?line=18'>19</a>\u001b[0m \u001b[39m#         n = int(input())\u001b[39;00m\n\u001b[1;32m   (...)\u001b[0m\n\u001b[0;32m     <a href='vscode-notebook-cell:/c%3A/Users/farih/Desktop/code/Beecrowd.ipynb#ch0000001?line=21'>22</a>\u001b[0m \u001b[39m#     except:\u001b[39;00m\n\u001b[0;32m     <a href='vscode-notebook-cell:/c%3A/Users/farih/Desktop/code/Beecrowd.ipynb#ch0000001?line=22'>23</a>\u001b[0m \u001b[39m#         break\u001b[39;00m\n\u001b[1;32m---> <a href='vscode-notebook-cell:/c%3A/Users/farih/Desktop/code/Beecrowd.ipynb#ch0000001?line=24'>25</a>\u001b[0m calc(\u001b[39m4\u001b[39;49m, [\u001b[39m3\u001b[39;49m, \u001b[39m1\u001b[39;49m, \u001b[39m2\u001b[39;49m, \u001b[39m4\u001b[39;49m])\n",
      "\u001b[1;32mc:\\Users\\farih\\Desktop\\code\\Beecrowd.ipynb Cell 2'\u001b[0m in \u001b[0;36mcalc\u001b[1;34m(n, player)\u001b[0m\n\u001b[0;32m      <a href='vscode-notebook-cell:/c%3A/Users/farih/Desktop/code/Beecrowd.ipynb#ch0000001?line=6'>7</a>\u001b[0m \u001b[39mfor\u001b[39;00m i \u001b[39min\u001b[39;00m \u001b[39mrange\u001b[39m(\u001b[39m1\u001b[39m, n\u001b[39m+\u001b[39m\u001b[39m1\u001b[39m, \u001b[39m1\u001b[39m):\n\u001b[0;32m      <a href='vscode-notebook-cell:/c%3A/Users/farih/Desktop/code/Beecrowd.ipynb#ch0000001?line=7'>8</a>\u001b[0m     index \u001b[39m=\u001b[39m player_to_index[i]\n\u001b[1;32m----> <a href='vscode-notebook-cell:/c%3A/Users/farih/Desktop/code/Beecrowd.ipynb#ch0000001?line=8'>9</a>\u001b[0m     \u001b[39massert\u001b[39;00m index \u001b[39m==\u001b[39m player\u001b[39m.\u001b[39mindex(i), (i, index, player\u001b[39m.\u001b[39mindex(i))\n\u001b[0;32m     <a href='vscode-notebook-cell:/c%3A/Users/farih/Desktop/code/Beecrowd.ipynb#ch0000001?line=9'>10</a>\u001b[0m     \u001b[39mif\u001b[39;00m index \u001b[39m!=\u001b[39m \u001b[39mlen\u001b[39m(player)\u001b[39m-\u001b[39m\u001b[39m1\u001b[39m:\n\u001b[0;32m     <a href='vscode-notebook-cell:/c%3A/Users/farih/Desktop/code/Beecrowd.ipynb#ch0000001?line=10'>11</a>\u001b[0m         \u001b[39m#for j in range(index+1,len(player),1):\u001b[39;00m\n\u001b[0;32m     <a href='vscode-notebook-cell:/c%3A/Users/farih/Desktop/code/Beecrowd.ipynb#ch0000001?line=11'>12</a>\u001b[0m         \u001b[39m#highfive+=len(range(index+1,len(player)),1)\u001b[39;00m\n\u001b[0;32m     <a href='vscode-notebook-cell:/c%3A/Users/farih/Desktop/code/Beecrowd.ipynb#ch0000001?line=12'>13</a>\u001b[0m         highfive \u001b[39m+\u001b[39m\u001b[39m=\u001b[39m \u001b[39mlen\u001b[39m(\u001b[39mrange\u001b[39m(index\u001b[39m+\u001b[39m\u001b[39m1\u001b[39m, \u001b[39mlen\u001b[39m(player), \u001b[39m1\u001b[39m))\n",
      "\u001b[1;31mAssertionError\u001b[0m: (2, 2, 1)"
     ]
    }
   ],
   "source": [
    "#3\n",
    "#High five\n",
    "def calc(n, player):\n",
    "    highfive = 0\n",
    "    player_to_index = [0]*(n+1)\n",
    "    for i in range(n):\n",
    "        player_to_index[player[i]]=i\n",
    "    print(player, player_to_index)\n",
    "    for i in range(1, n+1, 1):\n",
    "        index = player_to_index[i]\n",
    "        assert index == player.index(i), (i, index, player.index(i))\n",
    "        if index != len(player)-1:\n",
    "            #for j in range(index+1,len(player),1):\n",
    "            #highfive+=len(range(index+1,len(player)),1)\n",
    "            highfive += len(range(index+1, len(player), 1))\n",
    "        player.remove(i)\n",
    "    return highfive\n",
    "\n",
    "# while True:\n",
    "#     try:\n",
    "#         n = int(input())\n",
    "#         player = list(map(int, input().split()))\n",
    "#         print(calc(n, player))\n",
    "#     except:\n",
    "#         break\n",
    "\n",
    "calc(4, [3, 1, 2, 4])"
   ]
  },
  {
   "cell_type": "code",
   "execution_count": 49,
   "metadata": {},
   "outputs": [
    {
     "data": {
      "text/plain": [
       "[0, 1, 2, 0, 3]"
      ]
     },
     "execution_count": 49,
     "metadata": {},
     "output_type": "execute_result"
    }
   ],
   "source": [
    "player_to_index = [0]*5\n",
    "player_to_index[3] = 0\n",
    "player_to_index[1] = 1\n",
    "player_to_index[2] = 2\n",
    "player_to_index[4] = 3\n",
    "player_to_index"
   ]
  },
  {
   "cell_type": "code",
   "execution_count": 3,
   "metadata": {},
   "outputs": [
    {
     "name": "stdout",
     "output_type": "stream",
     "text": [
      "1\n"
     ]
    }
   ],
   "source": [
    "list1=[1,2]\n",
    "print(list1.index(2))"
   ]
  },
  {
   "cell_type": "code",
   "execution_count": 72,
   "metadata": {},
   "outputs": [
    {
     "name": "stdout",
     "output_type": "stream",
     "text": [
      "250\n",
      "30\n",
      "40\n",
      "100\n",
      "40\n"
     ]
    }
   ],
   "source": [
    "# 4\n",
    "#General exam\n",
    "while True:\n",
    "    try:\n",
    "        nq=input().split()\n",
    "        n=int(nq[0])\n",
    "        q=int(nq[1])\n",
    "        list1=[]\n",
    "        list2=[]\n",
    "        for i in range(n):\n",
    "            grade=int(input())\n",
    "            list1.append(grade)\n",
    "        for i in range(q):\n",
    "            rank=int(input())\n",
    "            list2.append(rank)\n",
    "        list1.sort(reverse=True)\n",
    "        for i in list2:\n",
    "            print(list1[i-1])\n",
    "    except:\n",
    "        break\n",
    "            \n"
   ]
  },
  {
   "cell_type": "code",
   "execution_count": 6,
   "metadata": {},
   "outputs": [
    {
     "name": "stdout",
     "output_type": "stream",
     "text": [
      "3\n"
     ]
    }
   ],
   "source": [
    "#5\n",
    "#VaiNaSort\n",
    "while True:\n",
    "    try:\n",
    "        n=int(input())\n",
    "        if n==0:\n",
    "            break\n",
    "        str1=\"\"\n",
    "        for i in range(1,n+1,1):\n",
    "            str1=str1+str(i)+\" \"\n",
    "        str2=str1[:-1]\n",
    "        count=0\n",
    "        while True:\n",
    "            str3=input()\n",
    "            if str3==str2:\n",
    "                count+=1\n",
    "                print(count)\n",
    "                break\n",
    "            if str3!=str2:\n",
    "                count+=1\n",
    "    except:\n",
    "        break\n",
    "\n"
   ]
  },
  {
   "cell_type": "code",
   "execution_count": 7,
   "metadata": {},
   "outputs": [
    {
     "name": "stdout",
     "output_type": "stream",
     "text": [
      "bel 2 3 4\n",
      "bang 2 3 1\n"
     ]
    }
   ],
   "source": [
    "#7\n",
    "#Medal table\n",
    "n = int(input())\n",
    "list1 = []\n",
    "for i in range(n):\n",
    "    country = input().split()\n",
    "    list1.append(country)\n",
    "for idx1 in range(0, len(list1)-1):\n",
    "    for idx2 in range(0, len(list1) - idx1 - 1):\n",
    "        if (int(list1[idx2][1]) < int(list1[idx2 + 1][1])):\n",
    "            temp = list1[idx2]\n",
    "            list1[idx2] = list1[idx2 + 1]\n",
    "            list1[idx2 + 1] = temp\n",
    "        if (int(list1[idx2][1]) == int(list1[idx2 + 1][1])):\n",
    "            if (int(list1[idx2][2]) < int(list1[idx2 + 1][2])):\n",
    "                temp = list1[idx2]\n",
    "                list1[idx2] = list1[idx2 + 1]\n",
    "                list1[idx2 + 1] = temp\n",
    "            elif (int(list1[idx2][2]) == int(list1[idx2 + 1][2])) and (int(list1[idx2][3]) < int(list1[idx2 + 1][3])):\n",
    "                temp = list1[idx2]\n",
    "                list1[idx2] = list1[idx2 + 1]\n",
    "                list1[idx2 + 1] = temp\n",
    "            elif (int(list1[idx2][2]) == int(list1[idx2 + 1][2])) and (int(list1[idx2][3]) == int(list1[idx2 + 1][3])) and ((list1[idx2][0][0]) > (list1[idx2 + 1][0][0])):\n",
    "                temp = list1[idx2]\n",
    "                list1[idx2] = list1[idx2 + 1]\n",
    "                list1[idx2 + 1] = temp\n",
    "for i in list1:\n",
    "    str4 = \"\"\n",
    "    for j in i:\n",
    "        str4 += j+\" \"\n",
    "    print(str4[:-1])\n"
   ]
  },
  {
   "cell_type": "code",
   "execution_count": 8,
   "metadata": {},
   "outputs": [
    {
     "name": "stdout",
     "output_type": "stream",
     "text": [
      "['0015', '0100', '1233']\n"
     ]
    }
   ],
   "source": [
    "#9\n",
    "#The library of mr. Severino\n",
    "while True:\n",
    "    try:\n",
    "        n=int(input())\n",
    "        list1=[]\n",
    "        for i in range(n):\n",
    "            code=input()\n",
    "            list1.append(code)\n",
    "        list1.sort(key=int)\n",
    "        for i in list1:\n",
    "            print(i)\n",
    "    except:\n",
    "        break\n",
    "            \n"
   ]
  },
  {
   "cell_type": "code",
   "execution_count": null,
   "metadata": {},
   "outputs": [],
   "source": [
    "while True:\n",
    "    try:\n",
    "        n=int(input())\n",
    "        dict={}\n",
    "        for i in range(n):\n",
    "            str1=input().split()\n",
    "            dict[str[0]]=int(str1[1])\n",
    "        \n",
    "    except:\n",
    "        break\n"
   ]
  },
  {
   "cell_type": "code",
   "execution_count": 19,
   "metadata": {},
   "outputs": [
    {
     "name": "stdout",
     "output_type": "stream",
     "text": [
      "[0, 1]\n",
      "10\n"
     ]
    }
   ],
   "source": [
    "#lucky number\n",
    "# try:\n",
    "t=int(input())\n",
    "for i in range(t):\n",
    "    str1=input()\n",
    "    list1=[]\n",
    "    for j in str1:\n",
    "        if '0'<=j<='9':\n",
    "            list1.append(int(j))\n",
    "    digit=\"\"\n",
    "    list1.sort()\n",
    "    if list1[0]==0:\n",
    "        for i in range(len(list1)):\n",
    "            if list1[i]!=0:\n",
    "                list1[0],list1[i]=list1[i],list1[0]\n",
    "                break\n",
    "    for j in list1:\n",
    "        digit=digit+str(j)\n",
    "    print(digit)\n",
    "# except:\n",
    "#     pass\n"
   ]
  },
  {
   "cell_type": "code",
   "execution_count": 25,
   "metadata": {},
   "outputs": [
    {
     "name": "stdout",
     "output_type": "stream",
     "text": [
      "pic pora\n"
     ]
    }
   ],
   "source": [
    "#Barbecue at Yuris\n",
    "while True:\n",
    "    try:\n",
    "        n=int(input())\n",
    "        list2=[]\n",
    "        for i in range(n):\n",
    "            list1=input().split()\n",
    "            list2.append(list1)\n",
    "        for idx1 in range(0, len(list2)-1):\n",
    "            for idx2 in range(0, len(list2) - idx1 - 1):\n",
    "                if (int(list2[idx2][1]) > int(list2[idx2 + 1][1])):\n",
    "                    temp = list2[idx2]\n",
    "                    list2[idx2] = list2[idx2 + 1]\n",
    "                    list2[idx2 + 1] = temp\n",
    "        str3=\"\"\n",
    "        for j in list2:\n",
    "            str3+=j[0]+\" \"\n",
    "        print(str3[:-1])\n",
    "    except:\n",
    "        break"
   ]
  },
  {
   "cell_type": "code",
   "execution_count": 27,
   "metadata": {},
   "outputs": [
    {
     "name": "stdout",
     "output_type": "stream",
     "text": [
      "TopCoder\n",
      "abab\n"
     ]
    }
   ],
   "source": [
    "#Combiner\n",
    "while True:\n",
    "    try:\n",
    "        n=int(input())\n",
    "        list2=[]\n",
    "        for i in range(n):\n",
    "            list3=input().split()\n",
    "            list2.append(list3)\n",
    "        for list1 in list2:\n",
    "            str1=\"\"\n",
    "            if len(list1[0])==len(list1[1]):\n",
    "                for i in range(len(list1[0])):\n",
    "                    str1+=list1[0][i]+list1[1][i]\n",
    "            elif len(list1[0]) < len(list1[1]):\n",
    "                for i in range(len(list1[0])):\n",
    "                    str1 += list1[0][i]+list1[1][i]\n",
    "                str1 = str1+list1[1][len(list1[0]) - len(list1[1]):]\n",
    "            elif len(list1[0]) > len(list1[1]):\n",
    "                for i in range(len(list1[1])):\n",
    "                    str1 += list1[0][i]+list1[1][i]\n",
    "                str1 = str1+list1[0][len(list1[1]) - len(list1[0]):]\n",
    "            print(str1)\n",
    "    except:\n",
    "        break\n",
    "\n",
    "            \n",
    "            \n",
    "            "
   ]
  },
  {
   "cell_type": "code",
   "execution_count": 2,
   "metadata": {},
   "outputs": [],
   "source": [
    "#dancing sentence\n",
    "while True:\n",
    "    try:\n",
    "        str1=input()\n",
    "        case_checker=True\n",
    "        str2=\"\"\n",
    "        for i in str1:\n",
    "            if i==\" \":\n",
    "                str2+=i\n",
    "                continue\n",
    "            if case_checker==True:\n",
    "                str2+=i.upper()\n",
    "            elif case_checker==False:\n",
    "                str2+=i.lower()\n",
    "            case_checker=not(case_checker)\n",
    "        print(str2)\n",
    "    except:\n",
    "        break"
   ]
  },
  {
   "cell_type": "code",
   "execution_count": 5,
   "metadata": {},
   "outputs": [
    {
     "name": "stdout",
     "output_type": "stream",
     "text": [
      "2\n"
     ]
    }
   ],
   "source": [
    "#LED\n",
    "dict={1:2,2:5,3:5,4:4,5:5,6:6,7:3,8:7,9:6,0:6}\n",
    "n=int(input())\n",
    "list1=[]\n",
    "for i in range(n):\n",
    "    str1=input()\n",
    "    list1.append(str1)\n",
    "for j in list1:\n",
    "    count=0\n",
    "    for k in j:\n",
    "        count+=dict[int(k)]\n",
    "    print(count,\"leds\")"
   ]
  },
  {
   "cell_type": "code",
   "execution_count": 9,
   "metadata": {},
   "outputs": [],
   "source": [
    "#Contract revision\n",
    "while True:\n",
    "    try:\n",
    "        list1=input().split()\n",
    "        if list1[0]=='0' and list1[1]=='0':\n",
    "            break\n",
    "        str1=list1[1].replace(str(list1[0]),\"\")\n",
    "        if str1==\"\":\n",
    "            print(0)\n",
    "        else:\n",
    "            num=int(str1)\n",
    "            print(num)\n",
    "    except:\n",
    "        break\n"
   ]
  },
  {
   "cell_type": "code",
   "execution_count": null,
   "metadata": {},
   "outputs": [],
   "source": [
    "#Even and odd\n",
    "n=int(input())\n",
    "list_even=[]\n",
    "list_odd=[]\n",
    "for i in range(n):\n",
    "    num=int(input())\n",
    "    if num%2==0:\n",
    "        list_even.append(num)\n",
    "    elif num % 2 == 1:\n",
    "        list_odd.append(num)\n",
    "list_even.sort()\n",
    "list_odd.sort(reverse=True)\n",
    "for i in list_even:\n",
    "    print(i)\n",
    "for j in list_odd:\n",
    "    print(j)"
   ]
  },
  {
   "cell_type": "code",
   "execution_count": 11,
   "metadata": {},
   "outputs": [
    {
     "name": "stdout",
     "output_type": "stream",
     "text": [
      "at Top comp Wedn Coder midnight\n",
      "one five three\n",
      "i cpp love\n",
      "a r e w f d s a v c x z sj sa df sd fd\n"
     ]
    }
   ],
   "source": [
    "#sort by length\n",
    "n=int(input())\n",
    "list2=[]\n",
    "for i in range(n):\n",
    "    list1=input().split()\n",
    "    list1.sort(key=len,reverse=True)\n",
    "    list2.append(list1)\n",
    "for j in list2:\n",
    "    str3=\"\"\n",
    "    for k in j:\n",
    "        str3+=k+\" \"\n",
    "    print(str3[:-1])"
   ]
  },
  {
   "cell_type": "code",
   "execution_count": null,
   "metadata": {},
   "outputs": [],
   "source": []
  }
 ],
 "metadata": {
  "interpreter": {
   "hash": "a873f5a139af5292c00abb590a42701be9dd2fa4416cc2c5cfc6bc387f351db0"
  },
  "kernelspec": {
   "display_name": "Python 3.9.12 64-bit (windows store)",
   "language": "python",
   "name": "python3"
  },
  "language_info": {
   "codemirror_mode": {
    "name": "ipython",
    "version": 3
   },
   "file_extension": ".py",
   "mimetype": "text/x-python",
   "name": "python",
   "nbconvert_exporter": "python",
   "pygments_lexer": "ipython3",
   "version": "3.9.13"
  },
  "orig_nbformat": 4
 },
 "nbformat": 4,
 "nbformat_minor": 2
}
